{
 "cells": [
  {
   "cell_type": "code",
   "execution_count": 1,
   "metadata": {},
   "outputs": [],
   "source": [
    "import numpy as np\n",
    "import matplotlib.pyplot as plt\n",
    "import imageio\n",
    "import skimage.filters\n",
    "import scipy.io as sio\n",
    "import similaritymeasures"
   ]
  },
  {
   "cell_type": "code",
   "execution_count": 2,
   "metadata": {},
   "outputs": [],
   "source": [
    "\n",
    "def raw_moment(data, i_order, j_order):\n",
    "    nrows, ncols = data.shape\n",
    "    y_indices, x_indicies = np.mgrid[:nrows, :ncols]\n",
    "    return (data * x_indicies**i_order * y_indices**j_order).sum()\n",
    "\n",
    "def moments_cov(data):\n",
    "    data_sum = data.sum()\n",
    "    m10 = raw_moment(data, 1, 0)\n",
    "    m01 = raw_moment(data, 0, 1)\n",
    "    x_centroid = m10 / data_sum\n",
    "    y_centroid = m01 / data_sum\n",
    "    u11 = (raw_moment(data, 1, 1) - x_centroid * m01) / data_sum\n",
    "    u20 = (raw_moment(data, 2, 0) - x_centroid * m10) / data_sum\n",
    "    u02 = (raw_moment(data, 0, 2) - y_centroid * m01) / data_sum\n",
    "    cov = np.array([[u20, u11], [u11, u02]])\n",
    "    return cov\n"
   ]
  },
  {
   "cell_type": "code",
   "execution_count": 3,
   "metadata": {},
   "outputs": [
    {
     "data": {
      "text/plain": [
       "[<matplotlib.lines.Line2D at 0x122a10c90>]"
      ]
     },
     "execution_count": 3,
     "metadata": {},
     "output_type": "execute_result"
    },
    {
     "data": {
      "image/png": "[encoded data removed]",
      "text/plain": [
       "<Figure size 432x288 with 1 Axes>"
      ]
     },
     "metadata": {
      "needs_background": "light"
     },
     "output_type": "display_data"
    }
   ],
   "source": [
    "import numpy as np\n",
    "import matplotlib.pyplot as plt\n",
    "import imageio\n",
    "import skimage.filters\n",
    "\n",
    "\n",
    "img = imageio.imread('../../Desktop/rangamani/oval.png')\n",
    "y, x = np.nonzero(img)\n",
    "\n",
    "x = x - np.mean(x)\n",
    "y = y - np.mean(y)\n",
    "coords = np.vstack([x, y])\n",
    "\n",
    "cov = np.cov(coords)\n",
    "evals, evecs = np.linalg.eig(cov)\n",
    "\n",
    "sort_indices = np.argsort(evals)[::-1]\n",
    "x_v1, y_v1 = evecs[:, sort_indices[0]]  # Eigenvector with largest eigenvalue\n",
    "x_v2, y_v2 = evecs[:, sort_indices[1]]\n",
    "\n",
    "scale = 20\n",
    "plt.plot([x_v1*-scale*2, x_v1*scale*2],\n",
    "         [y_v1*-scale*2, y_v1*scale*2], color='red')\n",
    "plt.plot([x_v2*-scale, x_v2*scale],\n",
    "         [y_v2*-scale, y_v2*scale], color='blue')\n",
    "plt.plot(x, y, 'k.')\n",
    "plt.axis('equal')\n",
    "plt.gca().invert_yaxis()  # Match the image system with origin at top left\n",
    "theta = np.tanh((x_v1)/(y_v1))  \n",
    "#print(theta)\n",
    "rotation_mat = np.matrix([[np.cos(theta), -np.sin(theta)],\n",
    "                      [np.sin(theta), np.cos(theta)]])\n",
    "transformed_mat = rotation_mat * coords\n",
    "# plot the transformed blob\n",
    "x_transformed, y_transformed = transformed_mat.A\n",
    "plt.plot(x_transformed, y_transformed, 'g.')\n",
    "\n",
    "\n"
   ]
  },
  {
   "cell_type": "code",
   "execution_count": 4,
   "metadata": {},
   "outputs": [
    {
     "data": {
      "image/png": "[encoded data removed]",
      "text/plain": [
       "<Figure size 432x288 with 1 Axes>"
      ]
     },
     "metadata": {
      "needs_background": "light"
     },
     "output_type": "display_data"
    }
   ],
   "source": [
    "mat_contents = sio.loadmat('../emm/matfiles/184.mat')\n",
    "#plt.plot(mat_contents['fit'][:, 0],mat_contents['fit'][:, 1])\n",
    "\n",
    "\n",
    "y = mat_contents['fit'][:, 1]\n",
    "x = mat_contents['fit'][:, 0]\n",
    "\n",
    "x = x - np.mean(x)\n",
    "y = y - np.mean(y)\n",
    "coords = np.vstack([x, y])\n",
    "\n",
    "cov = np.cov(coords)\n",
    "evals, evecs = np.linalg.eig(cov)\n",
    "\n",
    "sort_indices = np.argsort(evals)[::-1]\n",
    "x_v1, y_v1 = evecs[:, sort_indices[0]]  # Eigenvector with largest eigenvalue\n",
    "x_v2, y_v2 = evecs[:, sort_indices[1]]\n",
    "\n",
    "scale = 20\n",
    "plt.plot([x_v1*-scale*2, x_v1*scale*2],\n",
    "         [y_v1*-scale*2, y_v1*scale*2], color='red')\n",
    "plt.plot([x_v2*-scale, x_v2*scale],\n",
    "         [y_v2*-scale, y_v2*scale], color='blue')\n",
    "plt.plot(x, y, 'k.')\n",
    "plt.axis('equal')\n",
    "plt.gca().invert_yaxis()  # Match the image system with origin at top left\n",
    "theta = np.tanh((x_v1)/(y_v1))  \n",
    "#print(theta)\n",
    "rotation_mat = np.matrix([[np.cos(theta), -np.sin(theta)],\n",
    "                      [np.sin(theta), np.cos(theta)]])\n",
    "transformed_mat = rotation_mat * coords\n",
    "# plot the transformed blob\n",
    "x_transformed, y_transformed = transformed_mat.A\n",
    "#plt.plot(x_transformed, y_transformed, 'g.')\n"
   ]
  },
  {
   "cell_type": "code",
   "execution_count": 62,
   "metadata": {},
   "outputs": [],
   "source": [
    "def read_mat_file(path):\n",
    "    mat_contents = sio.loadmat(path)\n",
    "    return {'x_fit': mat_contents['fit'][:,0], 'y_fit': mat_contents['fit'][:, 1], 'x_outerfit': mat_contents['outerfit'][:, 0], 'y_outerfit': mat_contents['outerfit'][:, 1]}\n",
    "\n",
    "def smooth(x, box_pts): #for correcting ragged edges; not in use right now\n",
    "    box = np.ones(box_pts)/box_pts\n",
    "    x_smooth = np.convolve(x, box, mode='same')\n",
    "    return x_smooth\n",
    "\n",
    "def make_graph(data):\n",
    "    if (isinstance(data, dict)):\n",
    "        plt.plot(data['x_fit'], data['y_fit'])\n",
    "        plt.plot(data['x_outerfit'], data['y_outerfit'])\n",
    "    elif (isinstance(data, tuple)):\n",
    "        plt.plot(data[0], data[1])\n",
    "        \n",
    "def make_symmetric(data, fit_or_outerfit = \"fit\"):\n",
    "    if (fit_or_outerfit == \"fit\"):\n",
    "        x_fit_data = data['x_fit']\n",
    "        y_fit_data = data['y_fit']\n",
    "    else:\n",
    "        x_fit_data = data['x_outerfit']\n",
    "        y_fit_data = data['y_outerfit']\n",
    "        \n",
    "    new_x_fit_data = np.absolute(x_fit_data) #that way we can calculate average x coord\n",
    "\n",
    "    x_fit_data_transformed = np.zeros(len(new_x_fit_data)) #initialize resulting arrays\n",
    "    y_fit_data_transformed = np.zeros(len(y_fit_data))\n",
    "    \n",
    "    x_start = np.argmin(np.absolute(0 - new_x_fit_data)) #what index has the value closest to 0 (so we know if the shape is skewed left/right)\n",
    "    dist_from_mid = abs(len(new_x_fit_data) // 2 - x_start) #how far x_start is away from the actual middle of the array (used to shift resulting graph)\n",
    "\n",
    "    #since x_start will rarely be exactly at middle of array, below expression ensures against arrayindexoutofbounds.\n",
    "    for i in range(x_start if x_start <= (len(x_fit_data_transformed) // 2) else len(x_fit_data_transformed) - x_start):\n",
    "        #since we want resulting figure to be perfectly symmetrical, we start from the middle of the new array and every value to left and right are the same\n",
    "        x_fit_data_transformed[len(x_fit_data_transformed) // 2 - i] = - (new_x_fit_data[x_start - i] + new_x_fit_data[x_start + i]) / 2\n",
    "        x_fit_data_transformed[len(x_fit_data_transformed) // 2 + i] = (new_x_fit_data[x_start - i] + new_x_fit_data[x_start + i]) / 2\n",
    "\n",
    "    for i in range(len(y_fit_data_transformed) // 2 + 1):\n",
    "        y_fit_data_transformed[i] = (y_fit_data[i] + y_fit_data[-1 - i]) / 2\n",
    "        y_fit_data_transformed[-1 - i] = (y_fit_data[i] + y_fit_data[-1 - i]) / 2        \n",
    "    \n",
    "    #after the above loops, there are some values we didn't take into account in the calculations, so we do them here\n",
    "    leftover_data = (new_x_fit_data[0:dist_from_mid + 1] + new_x_fit_data[len(new_x_fit_data) - dist_from_mid - 1:]) / 2\n",
    "    \n",
    "    x_fit_data_transformed[0:dist_from_mid + 1] = - np.flip(leftover_data) #the first few data\n",
    "    x_fit_data_transformed[len(new_x_fit_data) - dist_from_mid - 1:] = leftover_data #the last few datapoints\n",
    "    #NOTE: the resulting array is not PERFECTLY symmetrical; sometimes it can be off by one x value\n",
    "    return x_fit_data_transformed, y_fit_data_transformed\n",
    "\n",
    "def pca(x, y):\n",
    "    x = x - np.mean(x)\n",
    "    y = y - np.mean(y)\n",
    "    coords = np.vstack([x, y])\n",
    "\n",
    "    cov = np.cov(coords)\n",
    "    evals, evecs = np.linalg.eig(cov)\n",
    "\n",
    "    sort_indices = np.argsort(evals)[::-1]\n",
    "    x_v1, y_v1 = evecs[:, sort_indices[0]]  # Eigenvector with largest eigenvalue\n",
    "    x_v2, y_v2 = evecs[:, sort_indices[1]]\n",
    "\n",
    "    scale = 20\n",
    "    #plt.plot([x_v1*-scale*2, x_v1*scale*2], [y_v1*-scale*2, y_v1*scale*2], color='red')\n",
    "    #plt.plot([x_v2*-scale, x_v2*scale], [y_v2*-scale, y_v2*scale], color='blue')\n",
    "    #plt.plot(x, y, 'k.')\n",
    "    #plt.axis('equal')\n",
    "    #plt.gca().invert_yaxis()  # Match the image system with origin at top left\n",
    "    theta = np.tanh((x_v1)/(y_v1))  \n",
    "    #print(theta)\n",
    "    rotation_mat = np.matrix([[np.cos(theta), -np.sin(theta)],\n",
    "                          [np.sin(theta), np.cos(theta)]])\n",
    "    transformed_mat = rotation_mat * coords\n",
    "    # plot the transformed blob\n",
    "    x_transformed, y_transformed = transformed_mat.A\n",
    "    return x_transformed, y_transformed"
   ]
  },
  {
   "cell_type": "code",
   "execution_count": 69,
   "metadata": {},
   "outputs": [
    {
     "data": {
      "image/png": "[encoded data removed]",
      "text/plain": [
       "<Figure size 432x288 with 1 Axes>"
      ]
     },
     "metadata": {
      "needs_background": "light"
     },
     "output_type": "display_data"
    }
   ],
   "source": [
    "data = read_mat_file('../emm/matfiles/3.mat')\n",
    "make_graph((data['x_fit'], data['y_fit']))\n",
    "new_x, new_y = pca(data['x_fit'], data['y_fit'])\n",
    "\n",
    "#results = make_symmetric({'x_fit': new_x, 'y_fit': new_y})\n",
    "\n",
    "#make_graph((x_transformed, y_transformed))\n",
    "#results = make_symmetric({'x_fit': x_transformed, 'y_fit': y_transformed})\n",
    "\n",
    "#make_graph(results)"
   ]
  },
  {
   "cell_type": "code",
   "execution_count": 40,
   "metadata": {},
   "outputs": [
    {
     "name": "stdout",
     "output_type": "stream",
     "text": [
      "100.72138685526576\n"
     ]
    }
   ],
   "source": [
    "df = similaritymeasures.frechet_dist(results, (data['x_fit'], data['y_fit']))\n",
    "print(df)"
   ]
  },
  {
   "cell_type": "code",
   "execution_count": null,
   "metadata": {},
   "outputs": [],
   "source": []
  }
 ],
 "metadata": {
  "kernelspec": {
   "display_name": "Python 3",
   "language": "python",
   "name": "python3"
  },
  "language_info": {
   "codemirror_mode": {
    "name": "ipython",
    "version": 3
   },
   "file_extension": ".py",
   "mimetype": "text/x-python",
   "name": "python",
   "nbconvert_exporter": "python",
   "pygments_lexer": "ipython3",
   "version": "3.7.4"
  }
 },
 "nbformat": 4,
 "nbformat_minor": 2
}
